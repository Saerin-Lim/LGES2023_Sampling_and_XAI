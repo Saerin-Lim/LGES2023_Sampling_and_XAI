{
 "cells": [
  {
   "cell_type": "code",
   "execution_count": 1,
   "metadata": {},
   "outputs": [
    {
     "name": "stderr",
     "output_type": "stream",
     "text": [
      "c:\\Users\\korea\\anaconda3\\envs\\py39\\lib\\site-packages\\tqdm\\auto.py:22: TqdmWarning: IProgress not found. Please update jupyter and ipywidgets. See https://ipywidgets.readthedocs.io/en/stable/user_install.html\n",
      "  from .autonotebook import tqdm as notebook_tqdm\n"
     ]
    }
   ],
   "source": [
    "import pandas as pd\n",
    "import numpy as np\n",
    "from collections import Counter\n",
    "\n",
    "import torch\n",
    "import torch.nn as nn\n",
    "import torch.optim as optim\n",
    "from sklearn import preprocessing\n",
    "\n",
    "import time\n",
    "import copy\n",
    "\n",
    "import random\n",
    "\n",
    "from sklearn.metrics import classification_report\n",
    "from sklearn.metrics import confusion_matrix\n",
    "\n",
    "import matplotlib.pyplot as plt     \n",
    "import itertools\n",
    "\n",
    "import warnings\n",
    "warnings.filterwarnings(action='ignore') "
   ]
  },
  {
   "cell_type": "code",
   "execution_count": null,
   "metadata": {},
   "outputs": [],
   "source": [
    "# Local PC로 실습하는 경우 실행 x / 단 작업경로를 LGES2023_Sampling_and_XAI으로 맞춰주기\n",
    "from google.colab import drive\n",
    "drive.mount('/content/drive')\n",
    "%cd /content/drive/MyDrive/LGES2023_Sampling_and_XAI"
   ]
  },
  {
   "cell_type": "code",
   "execution_count": null,
   "metadata": {},
   "outputs": [],
   "source": [
    "!pip install shap"
   ]
  },
  {
   "cell_type": "code",
   "execution_count": 2,
   "metadata": {},
   "outputs": [],
   "source": [
    "'''\n",
    "https://hoya012.github.io/blog/reproducible_pytorch/\n",
    "'''\n",
    "random_seed = 2023\n",
    "torch.manual_seed(random_seed)\n",
    "torch.cuda.manual_seed(random_seed)\n",
    "torch.cuda.manual_seed_all(random_seed) # if use multi-GPU\n",
    "torch.backends.cudnn.deterministic = True\n",
    "torch.backends.cudnn.benchmark = False\n",
    "np.random.seed(random_seed)\n",
    "random.seed(random_seed)"
   ]
  },
  {
   "cell_type": "code",
   "execution_count": 3,
   "metadata": {},
   "outputs": [],
   "source": [
    "train = pd.read_csv('./data/time_series_data/cls_train.csv')\n",
    "test = pd.read_csv('./data/time_series_data/cls_test.csv')"
   ]
  },
  {
   "cell_type": "code",
   "execution_count": 4,
   "metadata": {},
   "outputs": [
    {
     "data": {
      "text/plain": [
       "LAYING                1407\n",
       "STANDING              1374\n",
       "SITTING               1286\n",
       "WALKING               1226\n",
       "WALKING_UPSTAIRS      1073\n",
       "WALKING_DOWNSTAIRS     986\n",
       "Name: Activity, dtype: int64"
      ]
     },
     "execution_count": 4,
     "metadata": {},
     "output_type": "execute_result"
    }
   ],
   "source": [
    "train['Activity'].value_counts() # 데이터 클래스 정보 확인"
   ]
  },
  {
   "cell_type": "code",
   "execution_count": 5,
   "metadata": {},
   "outputs": [
    {
     "name": "stdout",
     "output_type": "stream",
     "text": [
      "x_train shape is (7352, 561)\n",
      "y_train shape is (7352,)\n",
      "-----------------------------------\n",
      "x_test shape is (2947, 561)\n",
      "y_test shape is (2947,)\n"
     ]
    }
   ],
   "source": [
    "x_train = train.drop(['subject', 'Activity'], axis=1)\n",
    "x_test = test.drop(['subject', 'Activity'], axis=1)\n",
    "y_train = train['Activity']\n",
    "y_test = test['Activity']\n",
    "\n",
    "print(f'x_train shape is {x_train.shape}')\n",
    "print(f'y_train shape is {y_train.shape}')\n",
    "print('-'*35)\n",
    "print(f'x_test shape is {x_test.shape}')\n",
    "print(f'y_test shape is {y_test.shape}')"
   ]
  },
  {
   "cell_type": "code",
   "execution_count": 6,
   "metadata": {},
   "outputs": [
    {
     "name": "stdout",
     "output_type": "stream",
     "text": [
      "0    1407\n",
      "2    1374\n",
      "1    1286\n",
      "3    1226\n",
      "5    1073\n",
      "4     986\n",
      "dtype: int64\n"
     ]
    }
   ],
   "source": [
    "label_encoder = preprocessing.LabelEncoder()\n",
    "y_train = label_encoder.fit_transform(y_train)\n",
    "y_test = label_encoder.transform(y_test)\n",
    "\n",
    "print(pd.Series(y_train).value_counts())"
   ]
  },
  {
   "cell_type": "code",
   "execution_count": 7,
   "metadata": {},
   "outputs": [],
   "source": [
    "def windowing_process(x, y, window_size, shift_size, last = True):\n",
    "    x = x.reset_index(drop=True)\n",
    "    \n",
    "    x_window = []\n",
    "    y_window = []\n",
    "    \n",
    "    for start_idx in range(0, x.shape[0] - window_size + 1, shift_size):\n",
    "        x_window.append(x[start_idx:start_idx + window_size])\n",
    "        \n",
    "        if last == True:\n",
    "            y_window.append(y[start_idx + window_size - 1]) # 마지막 index의 class를 사용하는 경우\n",
    "        \n",
    "        else:\n",
    "            count_class = Counter(y[start_idx:start_idx + window_size])\n",
    "            y_window.append(count_class.most_common(n=1)[0][0]) # 가장 많이 빈출한 class를 사용하는 경우\n",
    "        \n",
    "    x_window = np.array(x_window)\n",
    "    y_window = np.array(y_window)\n",
    "    \n",
    "    return x_window, y_window"
   ]
  },
  {
   "cell_type": "code",
   "execution_count": 8,
   "metadata": {},
   "outputs": [
    {
     "name": "stdout",
     "output_type": "stream",
     "text": [
      "x_train shape is (7343, 10, 561)\n",
      "y_train shape is (7343,)\n",
      "-----------------------------------\n",
      "x_test shape is (2938, 10, 561)\n",
      "y_test shape is (2938,)\n"
     ]
    }
   ],
   "source": [
    "x_train, y_train = windowing_process(x_train, y_train, 10, 1, True)\n",
    "x_test, y_test = windowing_process(x_test, y_test, 10, 1, True)\n",
    "\n",
    "print(f'x_train shape is {x_train.shape}')\n",
    "print(f'y_train shape is {y_train.shape}')\n",
    "print('-'*35)\n",
    "print(f'x_test shape is {x_test.shape}')\n",
    "print(f'y_test shape is {y_test.shape}')"
   ]
  },
  {
   "cell_type": "code",
   "execution_count": 9,
   "metadata": {},
   "outputs": [
    {
     "name": "stdout",
     "output_type": "stream",
     "text": [
      "x_train shape is (5874, 10, 561)\n",
      "y_train shape is (5874,)\n",
      "-----------------------------------\n",
      "x_train shape is (1469, 10, 561)\n",
      "y_train shape is (1469,)\n",
      "-----------------------------------\n",
      "x_test shape is (2938, 10, 561)\n",
      "y_test shape is (2938,)\n"
     ]
    }
   ],
   "source": [
    "n_train = int(0.8 * len(x_train))\n",
    "x_valid, y_valid = x_train[n_train:], y_train[n_train:]\n",
    "x_train, y_train = x_train[:n_train], y_train[:n_train]\n",
    "\n",
    "print(f'x_train shape is {x_train.shape}') # (batch_size x seq_len x input_size)\n",
    "print(f'y_train shape is {y_train.shape}')\n",
    "print('-'*35)\n",
    "print(f'x_train shape is {x_valid.shape}')\n",
    "print(f'y_train shape is {y_valid.shape}')\n",
    "print('-'*35)\n",
    "print(f'x_test shape is {x_test.shape}')\n",
    "print(f'y_test shape is {y_test.shape}')"
   ]
  },
  {
   "cell_type": "code",
   "execution_count": 10,
   "metadata": {},
   "outputs": [],
   "source": [
    "# https://pytorch.org/docs/stable/generated/torch.nn.RNN.html\n",
    "\n",
    "class RNN_model(nn.Module):\n",
    "    def __init__(self, input_size, hidden_size, num_layers, num_classes, bidirectional, device='cuda'):\n",
    "        super(RNN_model, self).__init__()\n",
    "        self.hidden_size = hidden_size\n",
    "        self.num_layers = num_layers\n",
    "        self.num_classes = num_classes\n",
    "        self.num_directions = 2 if bidirectional == True else 1\n",
    "        self.device = device\n",
    "        \n",
    "        # recurrent layer 설정\n",
    "        self.rnn = nn.RNN(input_size, hidden_size, num_layers, batch_first=True, bidirectional=bidirectional)\n",
    "\n",
    "        # bidirectional에 따른 fc layer 구축\n",
    "        # bidirectional 여부에 따라 hidden state의 shape가 달라짐 (True: 2 * hidden_size, False: hidden_size)\n",
    "        self.fc = nn.Linear(self.num_directions * hidden_size, self.num_classes)\n",
    "\n",
    "    def forward(self, x):\n",
    "        # data dimension: (batch_size x input_size x seq_len) -> (batch_size x seq_len x input_size)로 변환\n",
    "        # x = torch.transpose(x, 1, 2)\n",
    "        \n",
    "        # initial hidden states 설정\n",
    "        h0 = torch.zeros(self.num_directions * self.num_layers, x.size(0), self.hidden_size).to(self.device)\n",
    "        \n",
    "        # RNN으로부터 output 도출\n",
    "        out, _ = self.rnn(x, h0)  # out: tensor of shape (batch_size, seq_length, hidden_size)       \n",
    "        out = self.fc(out[:, -1, :])\n",
    "        return out"
   ]
  },
  {
   "cell_type": "code",
   "execution_count": 11,
   "metadata": {},
   "outputs": [],
   "source": [
    "class Train_Test():\n",
    "    def __init__(self,  train_loader, valid_loader, test_loader, input_size, num_classes, device='cuda'):\n",
    "        self.train_loader = train_loader\n",
    "        self.valid_loader = valid_loader\n",
    "        self.test_loader = test_loader\n",
    "        self.input_size = input_size\n",
    "        self.num_classes = num_classes\n",
    "\n",
    "    def train(self, model, dataloaders, criterion, num_epochs, optimizer, device):\n",
    "        since = time.time() \n",
    "\n",
    "        train_loss_history = []        \n",
    "        val_loss_history = []\n",
    "\n",
    "        best_model_wts = copy.deepcopy(model.state_dict()) # 모델의 초기 Weight값 (각 Layer 별 초기 Weight값이 저장되어 있음)\n",
    "        best_acc = 0.0 # ACC는 클수록 좋은 metric이므로, 초기 낮은 값에서 갱신\n",
    "\n",
    "        for epoch in range(num_epochs):\n",
    "            if epoch == 0 or (epoch + 1) % 10 == 0:\n",
    "                print()\n",
    "                print('Epoch {}/{}'.format(epoch + 1, num_epochs))\n",
    "\n",
    "            # 각 epoch마다 순서대로 training과 validation을 진행\n",
    "            for phase in ['train', 'val']:\n",
    "                if phase == 'train':\n",
    "                    model.train()  # 모델을 training mode로 설정\n",
    "                else:\n",
    "                    model.eval()   # 모델을 validation mode로 설정\n",
    "\n",
    "                running_loss = 0.0\n",
    "                running_corrects = 0\n",
    "                running_total = 0\n",
    "\n",
    "                # training과 validation 단계에 맞는 dataloader에 대하여 학습/검증 진행\n",
    "                for inputs, labels in dataloaders[phase]:\n",
    "                    inputs = inputs.to(device)\n",
    "                    labels = labels.to(device, dtype=torch.long)\n",
    "                    # seq_lens = seq_lens.to(self.parameter['device'])\n",
    "                    \n",
    "                    # parameter gradients를 0으로 설정\n",
    "                    optimizer.zero_grad()\n",
    "\n",
    "                    # forward\n",
    "                    # training 단계에서만 gradient 업데이트 수행\n",
    "                    with torch.set_grad_enabled(phase == 'train'):\n",
    "\n",
    "                        # input을 model에 넣어 output을 도출한 후, loss를 계산함\n",
    "                        outputs = model(inputs)\n",
    "                        loss = criterion(outputs, labels)\n",
    "\n",
    "                        # output 중 최댓값의 위치에 해당하는 class로 예측을 수행\n",
    "                        _, preds = torch.max(outputs, 1) # 첫 _에는 원래 실제 max값이 들어감 \n",
    "\n",
    "                        # backward (optimize): training 단계에서만 수행\n",
    "                        if phase == 'train':\n",
    "                            loss.backward()\n",
    "                            optimizer.step()\n",
    "\n",
    "                    # batch별 loss를 축적함\n",
    "                    running_loss += loss.item() * inputs.size(0)\n",
    "                    running_corrects += torch.sum(preds == labels.data)\n",
    "                    running_total += labels.size(0)\n",
    "\n",
    "                # epoch의 loss 및 accuracy 도출\n",
    "                epoch_loss = running_loss / running_total\n",
    "                epoch_acc = running_corrects.double() / running_total\n",
    "\n",
    "                if epoch == 0 or (epoch + 1) % 10 == 0:\n",
    "                    print('{} Loss: {:.4f} Acc: {:.4f}'.format(phase, epoch_loss, epoch_acc))\n",
    "\n",
    "                # validation 단계에서 validation loss가 감소할 때마다 best model 가중치를 업데이트함\n",
    "                if phase == 'val' and epoch_acc > best_acc:\n",
    "                    best_acc = epoch_acc\n",
    "                    best_model_wts = copy.deepcopy(model.state_dict())\n",
    "                if phase == 'train':\n",
    "                    train_loss_history.append(epoch_loss)\n",
    "                elif phase == 'val':\n",
    "                    val_loss_history.append(epoch_loss)\n",
    "\n",
    "\n",
    "        # 전체 학습 시간 계산 (학습이 완료된 후)\n",
    "        time_elapsed = time.time() - since\n",
    "        print('\\nTraining complete in {:.0f}m {:.0f}s'.format(time_elapsed // 60, time_elapsed % 60))\n",
    "        print('Best val Acc: {:4f}'.format(best_acc))\n",
    "\n",
    "        # validation loss가 가장 낮았을 때의 best model 가중치를 불러와 best model을 구축함\n",
    "        model.load_state_dict(best_model_wts)\n",
    "        return model, train_loss_history, val_loss_history\n",
    "\n",
    "    def test(self, model, test_loader, device):\n",
    "        model.eval()   # 모델을 validation mode로 설정\n",
    "        \n",
    "        # test_loader에 대하여 검증 진행 (gradient update 방지)\n",
    "        with torch.no_grad():\n",
    "            corrects = 0\n",
    "            total = 0\n",
    "            preds = []\n",
    "            probs = []\n",
    "            for inputs, labels in test_loader:\n",
    "                inputs = inputs.to(device)\n",
    "                labels = labels.to(device, dtype=torch.long)\n",
    "\n",
    "                # forward\n",
    "                # input을 model에 넣어 output을 도출\n",
    "                outputs = model(inputs)\n",
    "                prob = outputs\n",
    "                prob = nn.Softmax(dim=1)(prob)\n",
    "                \n",
    "                # output 중 최댓값의 위치에 해당하는 class로 예측을 수행\n",
    "                _, pred = torch.max(outputs, 1)\n",
    "                \n",
    "                # batch별 정답 개수를 축적함\n",
    "                corrects += torch.sum(pred == labels.data)\n",
    "                total += labels.size(0)\n",
    "\n",
    "                preds.extend(pred.detach().cpu().numpy())\n",
    "                probs.extend(prob.detach().cpu().numpy())\n",
    "\n",
    "            preds = np.array(preds)\n",
    "            probs = np.array(probs)\n",
    "            acc = (corrects.double() / total).item()\n",
    "       \n",
    "        return preds, probs, acc"
   ]
  },
  {
   "cell_type": "code",
   "execution_count": 12,
   "metadata": {},
   "outputs": [],
   "source": [
    "batch_size = 128\n",
    "input_size = x_train.shape[2]\n",
    "num_classes = len(np.unique(y_train))\n",
    "hidden_size = 64\n",
    "num_layers = 2\n",
    "bidirectional = True\n",
    "num_epochs = 100\n",
    "device = torch.device(\"cuda:0\" if torch.cuda.is_available() else 'cpu') "
   ]
  },
  {
   "cell_type": "code",
   "execution_count": 13,
   "metadata": {},
   "outputs": [],
   "source": [
    "datasets = []\n",
    "for dataset in [(x_train, y_train), (x_valid, y_valid), (x_test, y_test)]:\n",
    "    x_data = dataset[0]\n",
    "    y_data = dataset[1]\n",
    "    datasets.append(torch.utils.data.TensorDataset(torch.Tensor(x_data), torch.Tensor(y_data)))\n",
    "\n",
    "trainset, validset, testset = datasets[0], datasets[1], datasets[2]\n",
    "train_loader = torch.utils.data.DataLoader(trainset, batch_size=batch_size, shuffle=True)\n",
    "valid_loader = torch.utils.data.DataLoader(validset, batch_size=batch_size, shuffle=True)\n",
    "test_loader = torch.utils.data.DataLoader(testset, batch_size=batch_size, shuffle=False)"
   ]
  },
  {
   "cell_type": "code",
   "execution_count": 14,
   "metadata": {},
   "outputs": [],
   "source": [
    "model =  RNN_model(input_size, hidden_size, num_layers, num_classes, bidirectional, device)\n",
    "model = model.to(device)"
   ]
  },
  {
   "cell_type": "code",
   "execution_count": 15,
   "metadata": {},
   "outputs": [],
   "source": [
    "dataloaders_dict = {'train': train_loader, 'val': valid_loader}\n",
    "\n",
    "criterion = nn.CrossEntropyLoss()\n",
    "optimizer = optim.Adam(model.parameters(), lr=0.0001)"
   ]
  },
  {
   "cell_type": "code",
   "execution_count": 16,
   "metadata": {},
   "outputs": [
    {
     "name": "stdout",
     "output_type": "stream",
     "text": [
      "\n",
      "Epoch 1/100\n",
      "train Loss: 1.5277 Acc: 0.4314\n",
      "val Loss: 1.2522 Acc: 0.5956\n",
      "\n",
      "Epoch 10/100\n",
      "train Loss: 0.1858 Acc: 0.9549\n",
      "val Loss: 0.1856 Acc: 0.9530\n",
      "\n",
      "Epoch 20/100\n",
      "train Loss: 0.0467 Acc: 0.9927\n",
      "val Loss: 0.0761 Acc: 0.9714\n",
      "\n",
      "Epoch 30/100\n",
      "train Loss: 0.0220 Acc: 0.9963\n",
      "val Loss: 0.0491 Acc: 0.9843\n",
      "\n",
      "Epoch 40/100\n",
      "train Loss: 0.0115 Acc: 0.9985\n",
      "val Loss: 0.0379 Acc: 0.9877\n",
      "\n",
      "Epoch 50/100\n",
      "train Loss: 0.0067 Acc: 0.9997\n",
      "val Loss: 0.0484 Acc: 0.9864\n",
      "\n",
      "Epoch 60/100\n",
      "train Loss: 0.0044 Acc: 0.9997\n",
      "val Loss: 0.0321 Acc: 0.9884\n",
      "\n",
      "Epoch 70/100\n",
      "train Loss: 0.0063 Acc: 0.9997\n",
      "val Loss: 0.0800 Acc: 0.9775\n",
      "\n",
      "Epoch 80/100\n",
      "train Loss: 0.0125 Acc: 0.9964\n",
      "val Loss: 0.0497 Acc: 0.9830\n",
      "\n",
      "Epoch 90/100\n",
      "train Loss: 0.0018 Acc: 1.0000\n",
      "val Loss: 0.0461 Acc: 0.9864\n",
      "\n",
      "Epoch 100/100\n",
      "train Loss: 0.0013 Acc: 1.0000\n",
      "val Loss: 0.0436 Acc: 0.9877\n",
      "\n",
      "Training complete in 0m 19s\n",
      "Best val Acc: 0.992512\n"
     ]
    }
   ],
   "source": [
    "trainer = Train_Test(train_loader, valid_loader, test_loader, input_size, num_classes, device)\n",
    "best_model, train_loss_history, val_loss_history = trainer.train(model, dataloaders_dict, criterion, num_epochs, optimizer, device)"
   ]
  },
  {
   "attachments": {},
   "cell_type": "markdown",
   "metadata": {},
   "source": [
    "## SHAP For Time-Series Data\n",
    "\n",
    "Lime for Time-Series data using sklearn : https://github.com/emanuel-metzenthin/Lime-For-Time"
   ]
  },
  {
   "cell_type": "code",
   "execution_count": 89,
   "metadata": {},
   "outputs": [],
   "source": [
    "import shap"
   ]
  },
  {
   "cell_type": "code",
   "execution_count": 91,
   "metadata": {},
   "outputs": [],
   "source": [
    "explainer = shap.DeepExplainer(model=model,data=torch.FloatTensor(x_test[:200]).to(device))"
   ]
  },
  {
   "cell_type": "code",
   "execution_count": 92,
   "metadata": {},
   "outputs": [
    {
     "data": {
      "text/plain": [
       "RNN_model(\n",
       "  (rnn): RNN(561, 64, num_layers=2, batch_first=True, bidirectional=True)\n",
       "  (fc): Linear(in_features=128, out_features=6, bias=True)\n",
       ")"
      ]
     },
     "execution_count": 92,
     "metadata": {},
     "output_type": "execute_result"
    }
   ],
   "source": [
    "model.train()"
   ]
  },
  {
   "cell_type": "code",
   "execution_count": 94,
   "metadata": {},
   "outputs": [
    {
     "name": "stdout",
     "output_type": "stream",
     "text": [
      "Warning: unrecognized nn.Module: RNN\n",
      "Warning: unrecognized nn.Module: RNN\n",
      "Warning: unrecognized nn.Module: RNN\n",
      "Warning: unrecognized nn.Module: RNN\n",
      "Warning: unrecognized nn.Module: RNN\n",
      "Warning: unrecognized nn.Module: RNN\n",
      "Warning: unrecognized nn.Module: RNN\n",
      "Warning: unrecognized nn.Module: RNN\n",
      "Warning: unrecognized nn.Module: RNN\n",
      "Warning: unrecognized nn.Module: RNN\n",
      "Warning: unrecognized nn.Module: RNN\n",
      "Warning: unrecognized nn.Module: RNN\n",
      "Warning: unrecognized nn.Module: RNN\n",
      "Warning: unrecognized nn.Module: RNN\n",
      "Warning: unrecognized nn.Module: RNN\n",
      "Warning: unrecognized nn.Module: RNN\n",
      "Warning: unrecognized nn.Module: RNN\n",
      "Warning: unrecognized nn.Module: RNN\n",
      "Warning: unrecognized nn.Module: RNN\n",
      "Warning: unrecognized nn.Module: RNN\n",
      "Warning: unrecognized nn.Module: RNN\n",
      "Warning: unrecognized nn.Module: RNN\n",
      "Warning: unrecognized nn.Module: RNN\n",
      "Warning: unrecognized nn.Module: RNN\n",
      "Warning: unrecognized nn.Module: RNN\n",
      "Warning: unrecognized nn.Module: RNN\n",
      "Warning: unrecognized nn.Module: RNN\n",
      "Warning: unrecognized nn.Module: RNN\n",
      "Warning: unrecognized nn.Module: RNN\n",
      "Warning: unrecognized nn.Module: RNN\n"
     ]
    }
   ],
   "source": [
    "shap_values = explainer.shap_values(torch.FloatTensor(x_test[255:256]).to(device))"
   ]
  },
  {
   "cell_type": "code",
   "execution_count": 96,
   "metadata": {},
   "outputs": [
    {
     "name": "stdout",
     "output_type": "stream",
     "text": [
      "6 / (1, 10, 561)\n"
     ]
    }
   ],
   "source": [
    "print(len(shap_values), '/' , shap_values[0].shape)"
   ]
  },
  {
   "cell_type": "code",
   "execution_count": 98,
   "metadata": {},
   "outputs": [],
   "source": [
    "import seaborn as sns"
   ]
  },
  {
   "cell_type": "code",
   "execution_count": 99,
   "metadata": {},
   "outputs": [
    {
     "data": {
      "text/plain": [
       "Text(0.5, 1.0, 'RNN Shap Value Visualization')"
      ]
     },
     "execution_count": 99,
     "metadata": {},
     "output_type": "execute_result"
    },
    {
     "data": {
      "image/png": "[encoded data removed]",
      "text/plain": [
       "<Figure size 720x360 with 1 Axes>"
      ]
     },
     "metadata": {
      "needs_background": "light"
     },
     "output_type": "display_data"
    }
   ],
   "source": [
    "fig = plt.figure(figsize=(10,5))\n",
    "\n",
    "#plt.figure(figsize=(10,6))\n",
    "time_steps = np.array([str(i) for i in range(561)])\n",
    "sns.barplot(x=time_steps[:50], y=shap_values[0][0][0][:50])\n",
    "\n",
    "plt.ylabel('shap values')\n",
    "plt.xlabel('time steps')\n",
    "plt.xticks(rotation=45)\n",
    "plt.title('RNN Shap Value Visualization')\n"
   ]
  },
  {
   "cell_type": "code",
   "execution_count": 186,
   "metadata": {},
   "outputs": [
    {
     "data": {
      "text/plain": [
       "Text(0.5, 1.0, 'RNN Absolute Shap Value Visualization')"
      ]
     },
     "execution_count": 186,
     "metadata": {},
     "output_type": "execute_result"
    },
    {
     "data": {
      "image/png": "[encoded data removed]",
      "text/plain": [
       "<Figure size 720x360 with 1 Axes>"
      ]
     },
     "metadata": {
      "needs_background": "light"
     },
     "output_type": "display_data"
    }
   ],
   "source": [
    "fig = plt.figure(figsize=(10,5))\n",
    "\n",
    "#plt.figure(figsize=(10,6))\n",
    "time_steps = np.array([str(i) for i in range(561)])\n",
    "sns.barplot(x=time_steps[:50], y=np.abs(shap_values[0][0][0][:50]))\n",
    "\n",
    "plt.ylabel('shap values')\n",
    "plt.xlabel('time steps')\n",
    "plt.xticks(rotation=45)\n",
    "plt.title('RNN Absolute Shap Value Visualization')"
   ]
  },
  {
   "attachments": {},
   "cell_type": "markdown",
   "metadata": {},
   "source": [
    "## 1D-CNN & SHAP"
   ]
  },
  {
   "cell_type": "code",
   "execution_count": 172,
   "metadata": {},
   "outputs": [],
   "source": [
    "# https://pytorch.org/docs/stable/generated/torch.nn.RNN.html\n",
    "\n",
    "class CNN_model(nn.Module):\n",
    "    def __init__(self, in_channels,  num_classes):\n",
    "        super(CNN_model, self).__init__()\n",
    "        \n",
    "        # 1d-CNN block\n",
    "        self.block1 = nn.Sequential(nn.Conv1d(in_channels=in_channels, out_channels=32, kernel_size=7, stride=4, padding=3),\n",
    "                               nn.BatchNorm1d(32),\n",
    "                               nn.ReLU(True))\n",
    "        \n",
    "        self.block2 = nn.Sequential(nn.Conv1d(in_channels=32, out_channels=64, kernel_size=7, stride=4, padding=3),\n",
    "                               nn.BatchNorm1d(64),\n",
    "                               nn.ReLU(True))\n",
    "\n",
    "        self.block3 = nn.Sequential(nn.Conv1d(in_channels=64, out_channels=128, kernel_size=5, stride=3, padding=2),\n",
    "                               nn.BatchNorm1d(128),\n",
    "                               nn.ReLU(True))\n",
    "        \n",
    "        self.block4 = nn.Sequential(nn.Conv1d(in_channels=128, out_channels=256, kernel_size=5, stride=3, padding=2),\n",
    "                               nn.BatchNorm1d(256),\n",
    "                               nn.ReLU(True))\n",
    "        \n",
    "        self.avg_pool = nn.AdaptiveAvgPool1d(1)\n",
    "        \n",
    "        self.fc = nn.Sequential(nn.Linear(256,64),\n",
    "                                 nn.ReLU(True),\n",
    "                                 nn.Linear(64,num_classes))\n",
    "        \n",
    "    def forward(self, x):\n",
    "        \"\"\"x : B,10,561\"\"\"\n",
    "        x = self.block1(x) # B, 32, 141\n",
    "        x = self.block2(x) # B, 64, 36\n",
    "        x = self.block3(x) # B, 128, 12\n",
    "        x = self.block4(x) # B, 256, 4\n",
    "        x = self.avg_pool(x) # B, 256, 1\n",
    "        x = x.squeeze(dim=-1)\n",
    "        out = self.fc(x) # B, num_classes\n",
    "        return out"
   ]
  },
  {
   "cell_type": "code",
   "execution_count": 173,
   "metadata": {},
   "outputs": [],
   "source": [
    "in_channels= x_train.shape[1]\n",
    "num_classes = len(np.unique(y_train))\n",
    "num_epochs = 30\n",
    "device = torch.device(\"cuda:0\" if torch.cuda.is_available() else 'cpu') \n"
   ]
  },
  {
   "cell_type": "code",
   "execution_count": 174,
   "metadata": {},
   "outputs": [],
   "source": [
    "datasets = []\n",
    "for dataset in [(x_train, y_train), (x_valid, y_valid), (x_test, y_test)]:\n",
    "    x_data = dataset[0]\n",
    "    y_data = dataset[1]\n",
    "    datasets.append(torch.utils.data.TensorDataset(torch.Tensor(x_data), torch.Tensor(y_data)))\n",
    "\n",
    "trainset, validset, testset = datasets[0], datasets[1], datasets[2]\n",
    "train_loader = torch.utils.data.DataLoader(trainset, batch_size=batch_size, shuffle=True)\n",
    "valid_loader = torch.utils.data.DataLoader(validset, batch_size=batch_size, shuffle=True)\n",
    "test_loader = torch.utils.data.DataLoader(testset, batch_size=batch_size, shuffle=False)"
   ]
  },
  {
   "cell_type": "code",
   "execution_count": 175,
   "metadata": {},
   "outputs": [],
   "source": [
    "model =  CNN_model(in_channels=in_channels, num_classes=num_classes)\n",
    "model = model.to(device)\n",
    "\n",
    "dataloaders_dict = {'train': train_loader, 'val': valid_loader}\n",
    "\n",
    "criterion = nn.CrossEntropyLoss()\n",
    "optimizer = optim.Adam(model.parameters(), lr=0.0001)"
   ]
  },
  {
   "cell_type": "code",
   "execution_count": 176,
   "metadata": {},
   "outputs": [
    {
     "name": "stdout",
     "output_type": "stream",
     "text": [
      "\n",
      "Epoch 1/30\n",
      "train Loss: 1.4868 Acc: 0.4522\n",
      "val Loss: 1.1910 Acc: 0.7583\n",
      "\n",
      "Epoch 10/30\n",
      "train Loss: 0.0432 Acc: 0.9957\n",
      "val Loss: 0.1058 Acc: 0.9646\n",
      "\n",
      "Epoch 20/30\n",
      "train Loss: 0.0069 Acc: 1.0000\n",
      "val Loss: 0.0923 Acc: 0.9646\n",
      "\n",
      "Epoch 30/30\n",
      "train Loss: 0.0021 Acc: 1.0000\n",
      "val Loss: 0.0981 Acc: 0.9653\n",
      "\n",
      "Training complete in 0m 9s\n",
      "Best val Acc: 0.967325\n"
     ]
    }
   ],
   "source": [
    "trainer = Train_Test(train_loader, valid_loader, test_loader, input_size, num_classes, device)\n",
    "best_model, train_loss_history, val_loss_history = trainer.train(model, dataloaders_dict, criterion, num_epochs, optimizer, device)"
   ]
  },
  {
   "cell_type": "code",
   "execution_count": 177,
   "metadata": {},
   "outputs": [],
   "source": [
    "model.eval()\n",
    "explainer = shap.DeepExplainer(model=model,data=torch.FloatTensor(x_test[:200]).to(device))"
   ]
  },
  {
   "cell_type": "code",
   "execution_count": 178,
   "metadata": {},
   "outputs": [],
   "source": [
    "shap_values = explainer.shap_values(torch.FloatTensor(x_test[255:256]).to(device))"
   ]
  },
  {
   "cell_type": "code",
   "execution_count": 188,
   "metadata": {},
   "outputs": [
    {
     "data": {
      "text/plain": [
       "Text(0.5, 1.0, '1DCNN Shap Value Visualization')"
      ]
     },
     "execution_count": 188,
     "metadata": {},
     "output_type": "execute_result"
    },
    {
     "data": {
      "image/png": "[encoded data removed]",
      "text/plain": [
       "<Figure size 720x360 with 1 Axes>"
      ]
     },
     "metadata": {
      "needs_background": "light"
     },
     "output_type": "display_data"
    }
   ],
   "source": [
    "fig = plt.figure(figsize=(10,5))\n",
    "\n",
    "#plt.figure(figsize=(10,6))\n",
    "time_steps = np.array([str(i) for i in range(561)])\n",
    "sns.barplot(x=time_steps[:50], y=shap_values[0][0][0][:50])\n",
    "\n",
    "plt.ylabel('shap values')\n",
    "plt.xlabel('time steps')\n",
    "plt.xticks(rotation=45)\n",
    "plt.title('1DCNN Shap Value Visualization')"
   ]
  }
 ],
 "metadata": {
  "kernelspec": {
   "display_name": "py39",
   "language": "python",
   "name": "python3"
  },
  "language_info": {
   "codemirror_mode": {
    "name": "ipython",
    "version": 3
   },
   "file_extension": ".py",
   "mimetype": "text/x-python",
   "name": "python",
   "nbconvert_exporter": "python",
   "pygments_lexer": "ipython3",
   "version": "3.9.12"
  },
  "orig_nbformat": 4
 },
 "nbformat": 4,
 "nbformat_minor": 2
}
